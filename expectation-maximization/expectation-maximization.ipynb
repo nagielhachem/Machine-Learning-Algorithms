{
 "cells": [
  {
   "cell_type": "code",
   "execution_count": 1,
   "metadata": {},
   "outputs": [
    {
     "name": "stdout",
     "output_type": "stream",
     "text": [
      "Using matplotlib backend: MacOSX\n",
      "Populating the interactive namespace from numpy and matplotlib\n"
     ]
    }
   ],
   "source": [
    "%pylab\n",
    "%matplotlib inline \n",
    "from mnist import load_mnist\n",
    "train_data, train_labels = load_mnist(dataset='training', path='./')\n",
    "test_data, test_labels = load_mnist(dataset='testing', path='./')"
   ]
  },
  {
   "cell_type": "code",
   "execution_count": 2,
   "metadata": {
    "collapsed": true
   },
   "outputs": [],
   "source": [
    "import numpy as np\n",
    "\n",
    "train_data = np.reshape(train_data, (60000, 28 * 28)).T\n",
    "test_data  = np.reshape(test_data,  (10000, 28 * 28)).T"
   ]
  },
  {
   "cell_type": "code",
   "execution_count": 3,
   "metadata": {
    "scrolled": true
   },
   "outputs": [
    {
     "data": {
      "text/plain": [
       "((784, 60000), (60000,))"
      ]
     },
     "execution_count": 3,
     "metadata": {},
     "output_type": "execute_result"
    }
   ],
   "source": [
    "(train_data.shape, train_labels.shape)"
   ]
  },
  {
   "cell_type": "code",
   "execution_count": 4,
   "metadata": {
    "collapsed": true
   },
   "outputs": [],
   "source": [
    "TRAINBIN=np.where(train_data < 0.5, 0, 1);\n",
    "TESTBIN=np.where(test_data < 0.5, 0, 1);"
   ]
  },
  {
   "cell_type": "markdown",
   "metadata": {},
   "source": [
    "# Partie 1 : Théorie\n"
   ]
  },
  {
   "cell_type": "markdown",
   "metadata": {},
   "source": [
    "Soit $K$ le nombre de distribution de Bernouilli.<br />\n",
    "Soit $D$ le nombre de variables.<br />\n",
    "Soit $N$ le nombre de données.<br />\n",
    "Soit $X$ une matrice de taille $D*N$ contenant nos données d'apprentissage.<br />\n",
    "Soit $\\mu$ une matrice de taille $D*K$ contenant les moyennes de chaque distribution de Bernouilli.<br />\n",
    "Soit $\\Pi$ un vecteur de taille $K$ contenant le poid de chaque distribution.<br />"
   ]
  },
  {
   "cell_type": "markdown",
   "metadata": {},
   "source": [
    "### Etape E:\n",
    "L'tape E revient à calculer les probabilités des composante, sachant le dataset. Cette probabilité sera ensuite utilisé pour éstimer les nouveaux parametres qui maximise la vraiessemblance. En utilisant la formule de Bayes, on obtient:\n",
    "\n",
    "$$P(\\mu^{(k)}, \\Pi^{(k)} | X^{(j)}) = \n",
    "\\frac{P(X^{(j)}|\\mu^{(k)})\\Pi^{(k)}}{\\sum_{k=1}^K{ P(X^{(j)}|\\mu^{(k)})\\Pi^{(k)}}}$$\n",
    "\n",
    "S'il y a K composantes et N images, il faut donc calculer $N * K$ probabilité \n",
    "En supposant que les images suivent une loi de bernouilli, on a:\n",
    "$$P(X^{(j)}|\\mu^{(k)}) = \\prod_{i=1}^{D}{(\\mu^{(k)}_{i})^{X^{(j)}_{i}}(1 - \\mu^{(k)}_{i})^{(1 - X^{(j)}_{i})}}$$\n",
    "\n",
    "En passant au log, on obtient:\n",
    "\n",
    "$$log P(X^{(j)}|\\mu^{(k)}) = {\\sum_{i=1}^D{{X^{(j)}_{i}}log({\\mu^{(k)}_{i}}) + {(1 - X^{(j)}_{i})}log(1 - \\mu^{(k)}_{i})}}$$"
   ]
  },
  {
   "cell_type": "markdown",
   "metadata": {},
   "source": [
    "### Etape M\n",
    "\n",
    "L'etape M revient à calculer les parametres qui maximisent le log de vraisemblance. Dans une distribution de Bernouilli, on obtient après calcule:\n",
    "\n",
    "$$\\Pi^{(k)} = \\frac{\\sum_{j=1}^N P(\\mu^{(k)}, \\Pi^{(k)} | X^{(j)})}{N}$$\n",
    "\n",
    "$$\\mu^{(k)}_{i} = \\frac{\\sum_{j=1}^N P(\\mu^{(k)}, \\Pi^{(k)} | X^{(j)}) X^{(j)}_{i}}{\\sum_{j=1}^N P(\\mu^{(k)}, \\Pi^{(k)} | X^{(j)})}$$\n",
    "\n"
   ]
  },
  {
   "cell_type": "markdown",
   "metadata": {},
   "source": [
    "# Partie 2 : Implémentation\n",
    "\n",
    "Dans cette partie on implemente la classe EM qui apprend à maximiser le log de vraisemblance\n",
    "\n",
    "Il faut faire attention à la manipulation des valeurs de probabilités (entre 0 et 1\\) qui deviennent rapidement nulles à cause de la précision des chiffres flottants"
   ]
  },
  {
   "cell_type": "code",
   "execution_count": 14,
   "metadata": {
    "collapsed": true
   },
   "outputs": [],
   "source": [
    "from numpy import matlib \n",
    "\n",
    "class EM:\n",
    "    \n",
    "    def __expectation(self, with_sigma):\n",
    "        \"\"\"Computes log of P(parameters| Xi) for all Xi in the data set X\n",
    "            Expectation step of the EM \n",
    "            \n",
    "            :param with_sigma: a boolean indicating whether to use sigma when computing the probability.    \n",
    "            :rtype: numpy array of size (K, N)\n",
    "        \"\"\"\n",
    "        \n",
    "        w = np.copy(self.weights)\n",
    "        w[w == 0] = 1e-10\n",
    "        ln_weights = np.log(w)\n",
    "        ln_probk = np.empty((self.K, self.N))\n",
    "        for k in range(self.K): \n",
    "            if not with_sigma:\n",
    "                p = self.proba_log_func(self.data, self.means[:, k]) \n",
    "            else:\n",
    "                p = self.proba_log_func(self.data, self.means[:, k], self.sigmas[:, :, k])\n",
    "            ln_probk[k, :] = p + ln_weights[k]\n",
    "        prob = np.sum(np.exp(ln_probk), axis = 0)\n",
    "        prob[prob == 0] = 1e-10\n",
    "        self.log_likelihood = np.sum(np.log(prob)) # saving log-likelihood\n",
    "        ln_probk -= np.log(prob) # num/denum <=> log(num) - log(denum)\n",
    "        return ln_probk\n",
    "        \n",
    "    def __maximization(self, ln_prob, with_sigma):\n",
    "        \"\"\"Computes the new parameters that maximizes the log-likelihood \n",
    "            Maximization step of the EM\n",
    "            \n",
    "            :param ln_prob: the numpy array returned by __expectation\n",
    "            :param with_sigma: a boolean indicating whether to use sigma when computing the new parameters.\n",
    "            :rtype: 3 numpy arrays: numpy array of size (K), \n",
    "                                    numpy array of size (D, K),\n",
    "                                    numpy array of size (D, D, K) \n",
    "        \"\"\"\n",
    "        \n",
    "        prob = np.exp(ln_prob)\n",
    "        Nk = np.sum(prob, axis = 1)\n",
    "        weights = Nk / self.N\n",
    "        Nk[Nk == 0] = 1e-10\n",
    "        means = np.empty((self.D, self.K))\n",
    "        if with_sigma:\n",
    "            sigmas = np.empty((self.D, self.D, self.K))\n",
    "        for k in range(self.K):\n",
    "            means[:, k] = self.maximizing_mean_func(prob[k, :], self.data)\n",
    "            if with_sigma:\n",
    "                sigma = self.maximizing_sigma_func(prob[k, :], self.data, self.means[:, k]) / Nk[k]\n",
    "                while np.linalg.det(sigma) == 0:\n",
    "                    sigma = self.__floor_sigma(sigma)\n",
    "                sigmas[:, :, k] = sigma\n",
    "        if with_sigma:\n",
    "            return weights, means / Nk, sigmas\n",
    "        return weights, means / Nk, None     \n",
    "    \n",
    "    def __floor_sigma(self, sigma, rep = False):\n",
    "        \"\"\"Computes the new sigma floored to 1\n",
    "            \n",
    "            :param sigma: sigma to be floored  \n",
    "            :rtype: numpy array of size (D, D)\n",
    "        \"\"\"\n",
    "        \n",
    "        if rep:\n",
    "            floor = self.floor * 2\n",
    "            L = np.linalg.cholesky(floor)\n",
    "            L_inv = np.linalg.inv(L)\n",
    "        else:\n",
    "            L = self.L\n",
    "            L_inv = self.L_inv\n",
    "        T = L_inv @ sigma @ L_inv.T\n",
    "        eig_values, eig_vectors = np.linalg.eigh(T)\n",
    "        D = np.diag(eig_values)\n",
    "        D[D < 1] = 1\n",
    "        T = eig_vectors @ D @ np.linalg.inv(eig_vectors) \n",
    "        return L @ T @ L.T\n",
    "    \n",
    "    def __init_floor(self):\n",
    "        \"\"\"Initialise the floor of sigma.\n",
    "            \n",
    "            :rtype: None\n",
    "        \"\"\"\n",
    "        \n",
    "        cov = np.cov(self.data)\n",
    "        self.floor = cov * 0.2\n",
    "        self.L = np.linalg.cholesky(self.floor)\n",
    "        self.L_inv = np.linalg.inv(self.L)\n",
    "        \n",
    "            \n",
    "    def set_em_functions(self, proba_log_func, maximizing_mean_func, maximizing_sigma_func = None):\n",
    "        \"\"\"Sets the functions to be used while training the EM\n",
    "            \n",
    "            :param proba_log_func: the function which computes the log of a probability\n",
    "            :param maximizing_mean_func: the function which computes the mean maximizing the log-likelihood\n",
    "            :param maximizing_sigma_func: the function which computes the sigma maximizing the log-likelihood\n",
    "            :rtype: None\n",
    "        \"\"\"\n",
    "        \n",
    "        self.proba_log_func = proba_log_func\n",
    "        self.maximizing_mean_func = maximizing_mean_func\n",
    "        self.maximizing_sigma_func = maximizing_sigma_func\n",
    "    \n",
    "    def init_parameters(self, data, K, weights = None, means = None, sigmas = None):\n",
    "        \"\"\"Initialise the parameters to be used in the EM.\n",
    "            If parameters are not specified, they are computed in the class using:\n",
    "                __init_weights, __init_means and __init_sigmas\n",
    "            \n",
    "            :param data: an numpy array containing the training set.\n",
    "            :param K: an int containing the number of components in the mixture model\n",
    "            :param weights: an numpy array containing the initial weight of each component.\n",
    "            :param means: an numpy array containing the initial mean of each component.\n",
    "            :param sigmas: an numpy array containing the initial sigma of each component.\n",
    "            :rtype: None\n",
    "        \"\"\"\n",
    "        \n",
    "        self.log_likelihood = -float('Inf')\n",
    "        self.data = data\n",
    "        self.K = K\n",
    "        self.D = data.shape[0]\n",
    "        self.N = data.shape[1]\n",
    "        self.weights = weights\n",
    "        self.means = means\n",
    "        self.sigmas = sigmas\n",
    "        if weights is None:\n",
    "            self.__init_weights()\n",
    "        if means is None:\n",
    "            means = self.__init_means()\n",
    "        if self.maximizing_sigma_func is not None:\n",
    "            if sigmas is None:\n",
    "                sigmas = self.__init_sigmas()\n",
    "            self.__init_floor() \n",
    "        \n",
    "    def __init_weights(self):\n",
    "        \"\"\"Initialise the weight of each component.\n",
    "        \n",
    "            :rtype: None\n",
    "        \"\"\"\n",
    "        \n",
    "        self.weights = np.ones(self.K) / self.K\n",
    "        \n",
    "    def __init_means(self):\n",
    "        \"\"\"Initialise the mean of each component.\n",
    "            Uses LBG to initialise means\n",
    "            :rtype: None\n",
    "        \"\"\"\n",
    "        \n",
    "        mean = np.mean(self.data, axis = 1)\n",
    "        self.means = np.empty((self.D, self.K))\n",
    "        e = 0.1\n",
    "        for k in range(self.K):\n",
    "            for d in range(self.D):\n",
    "                if random.random() > 0.5:\n",
    "                    self.means[d, k] = min(mean[d] + e, 1)\n",
    "                else:\n",
    "                    self.means[d, k] = max(mean[d] - e, 0)\n",
    "                    \n",
    "    def __init_sigmas(self):\n",
    "        \"\"\"Initialise the sigma of each component.\n",
    "        \n",
    "            :rtype: None\n",
    "        \"\"\"\n",
    "        \n",
    "        self.sigmas = np.empty((self.D, self.D, self.K))\n",
    "        for k in range(K):\n",
    "            self.sigmas[:, :, k] = np.eye((self.D))\n",
    "    \n",
    "    def train(self, with_sigma = False, eps = 1000): \n",
    "        \"\"\"Train the EM and returns the parameters which maximizes the log-likelihood.\n",
    "            \n",
    "            :param with_sigma: a boolean indicating whether to use sigma in EM.\n",
    "            :param eps: an int representing the log-likelihood threshold\n",
    "            :rtype: 2 or 3 numpy arrays depending on the value of with_sigma\n",
    "                 with_sigma = False: numpy array of size (K), numpy array of size (D, K),\n",
    "                 with_sigma = True: adds an numpy array of size (D, D, K) to the return value.\n",
    "        \"\"\"\n",
    "        \n",
    "        diff = float('Inf')\n",
    "        i = 0\n",
    "        while (diff > eps) :\n",
    "            last_log_likelihood = self.log_likelihood\n",
    "            ln_prob = self.__expectation(with_sigma)\n",
    "            new_weights, new_means, new_sigmas = self.__maximization(ln_prob, with_sigma)\n",
    "            diff = np.abs(last_log_likelihood - self.log_likelihood)\n",
    "            self.means = new_means\n",
    "            self.weights = new_weights\n",
    "            self.sigmas = new_sigmas\n",
    "        if with_sigma:\n",
    "            return self.weights, self.means, self.sigmas\n",
    "        return self.weights, self.means"
   ]
  },
  {
   "cell_type": "code",
   "execution_count": 6,
   "metadata": {
    "collapsed": true
   },
   "outputs": [],
   "source": [
    "def bernouilli(X, Mu):\n",
    "    \"\"\"Computes log of P(X | Mu) for all Xi in the data set X using Bernouilli distribution\n",
    "            \n",
    "            :param X: numpy array containg the data set with rows as features\n",
    "            :param Mu: numpy array containg the estimated mean of the dataset X\n",
    "            :rtype: numpy array of size (N)\n",
    "    \"\"\"\n",
    "    \n",
    "    N = X.shape[1]\n",
    "    M = np.matlib.repmat(Mu, N, 1).T\n",
    "    P = M * X + (1 - M) * (1 - X)\n",
    "    P[P == 0] = 1 # to avoid log(0) and not take care of this value cz log(1) = 0\n",
    "    return np.sum(np.log(P), axis = 0)\n",
    "\n",
    "def bernouilli_means(P, X):\n",
    "    \"\"\"Computes the mean maximizing the log-likelihood of the data set X using Bernouilli distribution\n",
    "            \n",
    "            :param P: numpy array containg P(X | parameters)\n",
    "            :param X: numpy array containg the data set with rows as features\n",
    "            :rtype: numpy array of size (D)\n",
    "    \"\"\"\n",
    "    \n",
    "    D = X.shape[0]\n",
    "    p = np.matlib.repmat(P, D, 1)\n",
    "    return np.sum(p * X, axis = 1)\n",
    "\n",
    "def train_bernouilli(K):\n",
    "    \"\"\"Launches the EM on each class of the TRAINBIN with K components using Bernouilli distribution.\n",
    "            \n",
    "            :param K: an int containg the number of components in each class.\n",
    "            :rtype: numpy array of size (K), numpy array of size (D, K)\n",
    "    \"\"\"\n",
    "    \n",
    "    nb_class = 10\n",
    "    weights = [None] * nb_class\n",
    "    means = [None] * nb_class\n",
    "    em = EM()\n",
    "    em.set_em_functions(bernouilli, bernouilli_means)\n",
    "    for i in range(nb_class):\n",
    "        data = TRAINBIN[:, np.where(train_labels == i)[0]]\n",
    "        em.init_parameters(data, K)\n",
    "        w, m = em.train()\n",
    "        weights[i] = w\n",
    "        means[i] = m\n",
    "    return np.array(weights), np.array(means)"
   ]
  },
  {
   "cell_type": "code",
   "execution_count": 7,
   "metadata": {
    "collapsed": true,
    "scrolled": true
   },
   "outputs": [],
   "source": [
    "K = 1\n",
    "weights, means = train_bernouilli(K)"
   ]
  },
  {
   "cell_type": "markdown",
   "metadata": {},
   "source": [
    "2) Afficher les moyennes des différentes distributions de Bernoulli."
   ]
  },
  {
   "cell_type": "code",
   "execution_count": 8,
   "metadata": {},
   "outputs": [
    {
     "data": {
      "image/png": "[encoded data removed]",
      "text/plain": [
       "<matplotlib.figure.Figure at 0x11177f320>"
      ]
     },
     "metadata": {},
     "output_type": "display_data"
    }
   ],
   "source": [
    "import visualize as vz\n",
    "tmp = means.T\n",
    "vz.plotGroupImages(tmp[0])"
   ]
  },
  {
   "cell_type": "markdown",
   "metadata": {},
   "source": [
    "Une fois entrainé, on peut alors tester un classifieur bayésien en utilisant un mélange pour chaque classe. On testera le classifieur avec 1, 2, 4 et 8 composantes par classe."
   ]
  },
  {
   "cell_type": "code",
   "execution_count": 6,
   "metadata": {
    "collapsed": true
   },
   "outputs": [],
   "source": [
    "def bayes_class(data, K, weights, means, proba_log_func, sigmas = None):\n",
    "    \"\"\"Naive Bayes Classifier of the data set data\n",
    "            \n",
    "            :param data: numpy array containg the data set with rows as features\n",
    "            :param K: int containg the number of components in the dataset X\n",
    "            :param weights: numpy array containg the weight of each component in the dataset X\n",
    "            :param means: numpy array containg the mean of each component in the dataset X\n",
    "            :param proba_log_func: the function which computes the log of a probability\n",
    "            :param sigmas: numpy array containg the sigma of each component in the dataset X\n",
    "            :rtype: numpy array of size (N)\n",
    "    \"\"\"\n",
    "    D = data.shape[0]\n",
    "    N = data.shape[1]\n",
    "    nb_class = 10\n",
    "    prob = np.zeros((nb_class, N))\n",
    "    ln_weights = np.log(weights)\n",
    "    for c in range(nb_class):\n",
    "        ln_p = np.empty((K, N))\n",
    "        for k in range(K):\n",
    "            if sigmas is None:\n",
    "                ln_p[k, :] = proba_log_func(data, means[c, :, k]) + ln_weights[c, k]    \n",
    "            else:\n",
    "                ln_p[k, :] = proba_log_func(data, means[c, :, k], sigmas[c, :, :, k]) + ln_weights[c, k] \n",
    "        p = np.sum(np.exp(ln_p), axis = 0)\n",
    "        prob[c, :] = p\n",
    "    return np.argmax(prob, axis = 0)"
   ]
  },
  {
   "cell_type": "markdown",
   "metadata": {},
   "source": [
    "### Test sur 1, 2, 4 et 8 composantes par classes"
   ]
  },
  {
   "cell_type": "code",
   "execution_count": 10,
   "metadata": {},
   "outputs": [
    {
     "name": "stdout",
     "output_type": "stream",
     "text": [
      "K:  1 , Precision:  0.8132\n",
      "K:  2 , Precision:  0.8548\n",
      "K:  4 , Precision:  0.8896\n",
      "K:  8 , Precision:  0.9152\n"
     ]
    }
   ],
   "source": [
    "weights = {}\n",
    "means = {}\n",
    "out = {}\n",
    "for K in [1, 2, 4, 8]:\n",
    "    w, m = train_bernouilli(K)\n",
    "    t_data = TESTBIN\n",
    "    o = bayes_class(test_data, K, w, m, bernouilli)\n",
    "    print(\"K: \" ,K , \", Precision: \" ,(o == test_labels).sum() / test_labels.shape[0])\n",
    "    weights[str(K)] = w\n",
    "    means[str(K)] = m\n",
    "    out[str(K)] = o"
   ]
  },
  {
   "cell_type": "markdown",
   "metadata": {},
   "source": [
    "# Partie 3 : Comparaison avec un GMM\n",
    "\n",
    "Dans cette partie, on va comparer les résultats obtenus avec le cas d’un mélange de gaussiennes sur les données brutes TRAIN et TEST avec un mélange de bernouilli.\n",
    "\n",
    "* On commencera par le cas de gaussienne avec des matrices de covariance diagonale, ensuite tester la version avec matrices de covariance complète.\n",
    "* On fera attention à la dégénérescence de l’algorithme EM (matrice de covariance non inversible). Il faut voir comment gérer ce problème ainsi que l’initialisation."
   ]
  },
  {
   "cell_type": "code",
   "execution_count": 7,
   "metadata": {
    "collapsed": true
   },
   "outputs": [],
   "source": [
    "from numpy import linalg as LA\n",
    "\n",
    "class PCA:\n",
    "    \n",
    "    def __compute_eig(self, data):\n",
    "        cov = np.cov(data)\n",
    "        self.means = np.mean(data, axis = 1)\n",
    "        eig_values, eig_vectors = LA.eig(cov)\n",
    "        if eig_values.imag.sum() != 0:\n",
    "            print(\"Error: covariance of data is not symetrique. \\\n",
    "            It has some complex eigen values.\")\n",
    "        idx = eig_values.argsort()[::-1] \n",
    "        self.eig_values = eig_values[idx].real\n",
    "        self.eig_vectors= eig_vectors[:,idx].real\n",
    "\n",
    "    def __project(self, data, n = -1):\n",
    "        if n == -1:\n",
    "            n = self.get_vectorsNb(0.5)\n",
    "        centeredData = data - np.matlib.repmat(self.means, data.shape[1], 1).T\n",
    "        return self.eig_vectors[:, :n].T @ (centeredData)\n",
    "    \n",
    "    \n",
    "    \n",
    "    def get_vectorsNb(self, error_percent):\n",
    "        if error_percent < 0 or error_percent > 100:\n",
    "            print(\"error_percent should be between 0 and 100\")\n",
    "            return -1\n",
    "        info_percent = (100 - error_percent) / 100.0\n",
    "        eigSum = np.sum(self.eig_values)\n",
    "        for i in range(self.eig_values.shape[0]):\n",
    "            if np.sum(self.eig_values[:i]) / eigSum >= info_percent :\n",
    "                return i\n",
    "        return -1\n",
    "    \n",
    "    def extract_features(self, train_data, test_data, n = 50):\n",
    "        if n == 0:\n",
    "            return train_data, test_data\n",
    "        self.__compute_eig(train_data)\n",
    "        return pca.__project(train_data, n), pca.__project(test_data, n)\n",
    "    \n",
    "    def reproject_features(self, features, n = 50):\n",
    "        N = features.shape[1]\n",
    "        return self.eig_vectors[:, :n] @ features + np.matlib.repmat(self.means, N, 1).T"
   ]
  },
  {
   "cell_type": "code",
   "execution_count": 25,
   "metadata": {
    "collapsed": true
   },
   "outputs": [],
   "source": [
    "# il faut faire une projection pca pour rendre la matrice de variance inversible\n",
    "pca = PCA()\n",
    "train, test = pca.extract_features(train_data, test_data)"
   ]
  },
  {
   "cell_type": "code",
   "execution_count": 15,
   "metadata": {
    "collapsed": true
   },
   "outputs": [],
   "source": [
    "def normal(X, Mu, Sigma):\n",
    "    \"\"\"Computes log of P(X | Mu, Sigma) for all Xi in the data set X using Normal distribution\n",
    "            \n",
    "            :param X: numpy array containg the data set with rows as features\n",
    "            :param Mu: numpy array containg the estimated sigma of the dataset X\n",
    "            :param Mu: numpy array containg the estimated mean of the dataset X\n",
    "            :rtype: numpy array of size (N)\n",
    "    \"\"\"\n",
    "    \n",
    "    D = X.shape[0]\n",
    "    N = X.shape[1]\n",
    "    det = np.linalg.det(Sigma)\n",
    "    sigma_inv = np.linalg.inv(Sigma)\n",
    "    P = np.full((N), np.log(det) + D * np.log(2 * math.pi))\n",
    "    for i in range(N):\n",
    "        P[i] +=  (X[:, i] - Mu).T @ sigma_inv @ (X[:, i] - Mu)\n",
    "    P *= -0.5 \n",
    "    return P\n",
    "\n",
    "def normal_means(P, X):\n",
    "    \"\"\"Computes the mean maximizing the log-likelihood of the data set X using Normal distribution\n",
    "            \n",
    "            :param P: numpy array containg P(X | parameters)\n",
    "            :param X: numpy array containg the data set with rows as features\n",
    "            :rtype: numpy array of size (D)\n",
    "    \"\"\"\n",
    "    \n",
    "    D = X.shape[0]\n",
    "    p = np.matlib.repmat(P, D, 1)\n",
    "    return np.sum(p * X, axis = 1)\n",
    "\n",
    "def normal_sigmas(P, X, Mu):\n",
    "    \"\"\"Computes the full covariance matrix maximizing the log-likelihood of the data set X using Normal distribution\n",
    "            \n",
    "            :param P: numpy array containg P(X | parameters)\n",
    "            :param X: numpy array containg the data set with rows as features\n",
    "            :param Mu: numpy array containg the estimated mean of the dataset X\n",
    "            :rtype: numpy array of size (D, D)\n",
    "    \"\"\"\n",
    "    \n",
    "    D = X.shape[0]\n",
    "    N = X.shape[1]\n",
    "    sigma = np.zeros((D, D))\n",
    "    for i in range(N):\n",
    "        m = (X[:, i] - Mu).reshape(D, 1)\n",
    "        s = m @ m.T\n",
    "        sigma += P[i] * s\n",
    "    return sigma\n",
    "   \n",
    "def normal_diag_sigmas(P, X, Mu):\n",
    "    \"\"\"Computes the diagonal covariance matrix maximizing the log-likelihood of the data set X \n",
    "       using Normal distribution\n",
    "            \n",
    "            :param P: numpy array containg P(X | parameters)\n",
    "            :param X: numpy array containg the data set with rows as features\n",
    "            :param Mu: numpy array containg the estimated mean of the dataset X\n",
    "            :rtype: numpy array of size (D, D)\n",
    "    \"\"\"\n",
    "    \n",
    "    cov = normal_sigmas(P, X, Mu)\n",
    "    return np.diag(cov.diagonal())\n",
    "\n",
    "def train_gauss_diag(train_data, K):\n",
    "    \"\"\"Launches the EM on each class of the train_data with K components \n",
    "       using Normal distribution with diagonal covariance matrix. (Independant components)\n",
    "            \n",
    "            :param train_data: numpy array containg the data set with rows as features\n",
    "            :param K: an int containg the number of components in each class.\n",
    "            :rtype: numpy array of size (K), numpy array of size (D, K), numpy array of size (D, D, K)\n",
    "    \"\"\"\n",
    "    \n",
    "    nb_class = 10\n",
    "    weights = [None] * nb_class\n",
    "    means = [None] * nb_class\n",
    "    sigmas = [None] * nb_class\n",
    "    em = EM()\n",
    "    em.set_em_functions(normal, normal_means, normal_diag_sigmas)\n",
    "    for i in range(nb_class):\n",
    "        data = train_data[:, np.where(train_labels == i)[0]] \n",
    "        em.init_parameters(data, K)\n",
    "        w, m, s = em.train(with_sigma = True)\n",
    "        weights[i] = w\n",
    "        means[i] = m\n",
    "        sigmas[i] = s\n",
    "    return np.array(weights), np.array(means), np.array(sigmas)"
   ]
  },
  {
   "cell_type": "markdown",
   "metadata": {},
   "source": [
    "### Avec une matrice de variance-covariance diagonale"
   ]
  },
  {
   "cell_type": "code",
   "execution_count": 15,
   "metadata": {
    "scrolled": true
   },
   "outputs": [
    {
     "name": "stdout",
     "output_type": "stream",
     "text": [
      "K:  1 , Precision:  0.8781\n",
      "K:  2 , Precision:  0.8874\n",
      "K:  4 , Precision:  0.908\n",
      "K:  8 , Precision:  0.9203\n"
     ]
    }
   ],
   "source": [
    "weights = {}\n",
    "means = {}\n",
    "sigmas = {}\n",
    "out = {}\n",
    "train, test = extract_features(train_data, test_data)\n",
    "for K in [1, 2, 4, 8]:\n",
    "    w, m, s = train_gauss_diag(train, K)\n",
    "    o = bayes_class(test, K, w, m, normal, s)\n",
    "    print(\"K: \" ,K , \", Precision: \" ,(o == test_labels).sum() / test_labels.shape[0])\n",
    "    weights[str(K)] = w\n",
    "    means[str(K)] = m\n",
    "    sigmas[str(K)] = s\n",
    "    out[str(K)] = o"
   ]
  },
  {
   "cell_type": "markdown",
   "metadata": {},
   "source": [
    "### Avec une matrice de variance-covariance complete"
   ]
  },
  {
   "cell_type": "code",
   "execution_count": 10,
   "metadata": {
    "collapsed": true
   },
   "outputs": [],
   "source": [
    "def train_gauss(train_data, K):\n",
    "    \"\"\"Launches the EM on each class of the train_data with K components \n",
    "       using Normal distribution with full covariance matrix. (corrolated components)\n",
    "            \n",
    "            :param train_data: numpy array containg the data set with rows as features\n",
    "            :param K: an int containg the number of components in each class.\n",
    "            :rtype: numpy array of size (K), numpy array of size (D, K), numpy array of size (D, D, K)\n",
    "    \"\"\"\n",
    "    \n",
    "    nb_class = 10\n",
    "    weights = [None] * nb_class\n",
    "    means = [None] * nb_class\n",
    "    sigmas = [None] * nb_class\n",
    "    em = EM()\n",
    "    em.set_em_functions(normal, normal_means, normal_sigmas)\n",
    "    for i in range(nb_class):\n",
    "        data = train_data[:, np.where(train_labels == i)[0]] \n",
    "        em.init_parameters(data, K)\n",
    "        w, m, s = em.train(with_sigma = True)\n",
    "        weights[i] = w\n",
    "        means[i] = m\n",
    "        sigmas[i] = s\n",
    "    return np.array(weights), np.array(means), np.array(sigmas)"
   ]
  },
  {
   "cell_type": "code",
   "execution_count": 66,
   "metadata": {
    "scrolled": true
   },
   "outputs": [
    {
     "name": "stdout",
     "output_type": "stream",
     "text": [
      "K:  1 , Precision:  0.9637\n",
      "K:  2 , Precision:  0.9642\n",
      "K:  4 , Precision:  0.9701\n",
      "K:  8 , Precision:  0.9767\n"
     ]
    }
   ],
   "source": [
    "weights = {}\n",
    "means = {}\n",
    "sigmas = {}\n",
    "out = {}\n",
    "for K in [1, 2, 4, 8]:\n",
    "    w, m, s = train_gauss(train, K)\n",
    "    o = bayes_class(test, K, w, m, normal, s)\n",
    "    print(\"K: \" ,K , \", Precision: \" ,(o == test_labels).sum() / test_labels.shape[0])\n",
    "    weights[str(K)] = w\n",
    "    means[str(K)] = m\n",
    "    sigmas[str(K)] = s\n",
    "    out[str(K)] = o"
   ]
  },
  {
   "cell_type": "markdown",
   "metadata": {},
   "source": [
    "On remarque facilement que le passage au GMM avec des matrices de variance covariance complète donne une meilleur classification que toutes les autres methodes qu'on a essayé dans ce tp, surtout quand on augmente K. Pour avoir une meuilleur performence, il suffit d'entrener le modèle avec un nombre plus grand de composante par classe."
   ]
  }
 ],
 "metadata": {
  "kernelspec": {
   "display_name": "Python 3",
   "language": "python",
   "name": "python3"
  },
  "language_info": {
   "codemirror_mode": {
    "name": "ipython",
    "version": 3
   },
   "file_extension": ".py",
   "mimetype": "text/x-python",
   "name": "python",
   "nbconvert_exporter": "python",
   "pygments_lexer": "ipython3",
   "version": "3.6.4"
  }
 },
 "nbformat": 4,
 "nbformat_minor": 2
}
